{
 "cells": [
  {
   "cell_type": "markdown",
   "metadata": {},
   "source": [
    "<h1 style='text-align:center'>Python Intro to Loops and Integrals </h1>\n",
    "\n",
    "<strong>\n",
    "    TF: Maurice Wilson<br>\n",
    "    Astron 100 Section<br>\n",
    "    Spring 2021\n",
    "</strong>"
   ]
  },
  {
   "cell_type": "markdown",
   "metadata": {},
   "source": [
    "<h3>Loops</h3>"
   ]
  },
  {
   "cell_type": "code",
   "execution_count": 2,
   "metadata": {},
   "outputs": [
    {
     "name": "stdout",
     "output_type": "stream",
     "text": [
      "five numbers\n",
      "0\n",
      "3\n",
      "6\n",
      "9\n",
      "12\n",
      "used FOR loop\n",
      "[ 0  3  6  9 12]\n",
      "used WHILE loop\n",
      "[ 0  3  6  9 12]\n",
      "used list comprehension\n",
      "[ 0  3  6  9 12]\n"
     ]
    }
   ],
   "source": [
    "import numpy as np\n",
    "\n",
    "#\n",
    "# make an array with five elements whose values are arbitrary numbers\n",
    "#\n",
    "\n",
    "# -- first use FOR loop to print out the five numbers\n",
    "print('five numbers')\n",
    "for i in range(5):\n",
    "    print( i*2 + i )\n",
    "\n",
    "    \n",
    "# -- use a FOR loop\n",
    "data = []\n",
    "for i in range(5):\n",
    "    data.append( i*2 + i  )\n",
    "    \n",
    "data = np.array( data )\n",
    "print('used FOR loop')\n",
    "print(data)\n",
    "del data\n",
    "\n",
    "\n",
    "# -- use a WHILE loop\n",
    "data = []\n",
    "i = 0\n",
    "while len(data) < 5:\n",
    "    data.append( i*2 + i )\n",
    "    i += 1\n",
    "    \n",
    "data = np.array( data )\n",
    "print('used WHILE loop')\n",
    "print(data)\n",
    "del data\n",
    "\n",
    "\n",
    "# -- use a list comprehension\n",
    "data = [  i*2 + i  for i in range(5) ]\n",
    "data = np.array( data )\n",
    "print('used list comprehension')\n",
    "print(data)\n"
   ]
  },
  {
   "cell_type": "markdown",
   "metadata": {},
   "source": [
    "List comprehensions are powerful.  They run faster than FOR loops although the syntax is very similar to a FOR loop.  Also, a list comprehension is an aesthetically, concise way of writing code for a loop.  "
   ]
  },
  {
   "cell_type": "code",
   "execution_count": 4,
   "metadata": {},
   "outputs": [
    {
     "name": "stdout",
     "output_type": "stream",
     "text": [
      "{'phones': 0, 'cars': 3, 'babies': 6, 'pets': 9, 'schools': 12}\n",
      "{'phones': 0, 'cars': 3, 'babies': 6, 'pets': 9, 'schools': 12}\n"
     ]
    }
   ],
   "source": [
    "#\n",
    "# use dictionary comprehension to loop through keys and values to make a dictionary\n",
    "#\n",
    "\n",
    "dkeys = ['phones', 'cars', 'babies', 'pets', 'schools'] # these will be keys for the dictionary\n",
    "dvalues = [0, 3, 6, 9, 12]  # these will be values for the dictionary's keys\n",
    "\n",
    "d_hardcode = {'phones': 0 , 'cars': 3, 'babies': 6, 'pets': 9, 'schools': 12}\n",
    "\n",
    "d_compreh = { dkeys[i]: dvalues[i]   for i in range( len(dkeys) )   }\n",
    "\n",
    "\n",
    "print(d_hardcode)\n",
    "print(d_compreh)"
   ]
  },
  {
   "cell_type": "markdown",
   "metadata": {},
   "source": [
    "<h3>Area under Curve</h3>"
   ]
  },
  {
   "cell_type": "code",
   "execution_count": 5,
   "metadata": {},
   "outputs": [],
   "source": [
    "import matplotlib.pyplot as plt\n",
    "plt.ion() # only useful in "
   ]
  },
  {
   "cell_type": "code",
   "execution_count": 6,
   "metadata": {},
   "outputs": [],
   "source": [
    "def normaldist( x_pts, lamb, sigmawidth, normalized=True ):\n",
    "    '''\n",
    "    Normal probability distribution function (PDF)\n",
    "    '''\n",
    "    if normalized:\n",
    "        return 1.0/(sigmawidth* np.sqrt(2*np.pi) ) * np.exp( -1./2 *( (x_pts-lamb)/sigmawidth )**2 )\n",
    "    else:\n",
    "        return                                       np.exp( -1./2 *( (x_pts-lamb)/sigmawidth )**2 )\n"
   ]
  },
  {
   "cell_type": "code",
   "execution_count": 11,
   "metadata": {},
   "outputs": [],
   "source": [
    "x_guesses = np.linspace(-20,20)\n",
    "\n",
    "x_expect, width = 7, 2\n",
    "\n",
    "y_model = normaldist(x_guesses, lamb=x_expect, sigmawidth=width)"
   ]
  },
  {
   "cell_type": "code",
   "execution_count": 12,
   "metadata": {},
   "outputs": [
    {
     "data": {
      "image/png": "[encoded data removed]",
      "text/plain": [
       "<Figure size 432x288 with 1 Axes>"
      ]
     },
     "metadata": {
      "needs_background": "light"
     },
     "output_type": "display_data"
    }
   ],
   "source": [
    "fig, ax = plt.subplots()\n",
    "ax.plot( x_guesses, y_model, 'o' )\n",
    "ax.set_xlabel('x domain')\n",
    "ax.set_ylabel('PDF')\n",
    "ax.set_title(f\"Normal Distribution: $\\lambda={x_expect}$, $\\sigma={width}$\")\n",
    "\n",
    "plt.show()\n",
    "plt.close()\n"
   ]
  },
  {
   "cell_type": "markdown",
   "metadata": {},
   "source": [
    "If the PDF is normalized, then the following is true:\n",
    "\n",
    "$\\int^\\infty_{-\\infty} \\rm{PDF} = 1$\n",
    "\n",
    "Let's test that out with our PDF.\n",
    "\n"
   ]
  },
  {
   "cell_type": "code",
   "execution_count": 14,
   "metadata": {},
   "outputs": [
    {
     "name": "stdout",
     "output_type": "stream",
     "text": [
      "0.999999999938051\n"
     ]
    }
   ],
   "source": [
    "# \n",
    "# take integral across entire PDF.  There are many ways to integrate numerically in Python\n",
    "# -- don't forget, you can always just analytically solve for your PDF's normalization constant \n",
    "#\n",
    "\n",
    "delta_x = x_guesses[1]-x_guesses[0]\n",
    "total_int = np.trapz(y_model, dx=delta_x)  # you can use the trapezoidal rule to estimate integrals\n",
    "\n",
    "print(total_int)"
   ]
  },
  {
   "cell_type": "code",
   "execution_count": 21,
   "metadata": {},
   "outputs": [
    {
     "name": "stdout",
     "output_type": "stream",
     "text": [
      "5.013256548951434\n",
      "5.0132565492620005\n"
     ]
    }
   ],
   "source": [
    "y_model_unnorm = normaldist(x_guesses, lamb=x_expect, sigmawidth=width, normalized=False)\n",
    "total_int = np.trapz(y_model_unnorm, dx=delta_x)\n",
    "\n",
    "print(total_int)  # this total (unnormalized) integral can act as our normalization constant to divide by.\n",
    "\n",
    "# check to see if the analytically given normalization constant, ( sigma* sqrt(2*pi) ), is the same as our numerically found normalization constant   \n",
    "print(  width*np.sqrt(2*np.pi)  )"
   ]
  },
  {
   "cell_type": "code",
   "execution_count": 18,
   "metadata": {},
   "outputs": [
    {
     "name": "stdout",
     "output_type": "stream",
     "text": [
      "(0.999968328758167, 2.9751860118655683e-09)\n"
     ]
    }
   ],
   "source": [
    "#\n",
    "# let's integrate in a different way.\n",
    "#\n",
    "\n",
    "from scipy.integrate import quad\n",
    "\n",
    "total_int = quad( normaldist, -15, 15, args=(x_expect, width) )  # integrate the given function (my PDF) from -15 to 15\n",
    "\n",
    "print(total_int)"
   ]
  },
  {
   "cell_type": "code",
   "execution_count": 25,
   "metadata": {},
   "outputs": [
    {
     "data": {
      "image/png": "[encoded data removed]",
      "text/plain": [
       "<Figure size 432x288 with 1 Axes>"
      ]
     },
     "metadata": {
      "needs_background": "light"
     },
     "output_type": "display_data"
    }
   ],
   "source": [
    "#\n",
    "# With knowlege of loops, comprehensions, and integrals, can you calculate the cumulative distribution function?\n",
    "# \n",
    "\n",
    "# calculate the series of integrals using a set of two data points to start with and ending with a set of all data points \n",
    "# <--insert code-->\n",
    "\n",
    "\n",
    "# plot CDF\n",
    "# <--insert code-->"
   ]
  },
  {
   "cell_type": "code",
   "execution_count": null,
   "metadata": {},
   "outputs": [],
   "source": []
  }
 ],
 "metadata": {
  "kernelspec": {
   "display_name": "Python 3",
   "language": "python",
   "name": "python3"
  },
  "language_info": {
   "codemirror_mode": {
    "name": "ipython",
    "version": 3
   },
   "file_extension": ".py",
   "mimetype": "text/x-python",
   "name": "python",
   "nbconvert_exporter": "python",
   "pygments_lexer": "ipython3",
   "version": "3.8.5"
  }
 },
 "nbformat": 4,
 "nbformat_minor": 4
}
